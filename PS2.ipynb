{
 "cells": [
  {
   "cell_type": "markdown",
   "id": "10c35038",
   "metadata": {},
   "source": [
    "# BDAT 1004 – Data Programming"
   ]
  },
  {
   "cell_type": "markdown",
   "id": "2eb0ab05",
   "metadata": {},
   "source": [
    "# Problem Set 2"
   ]
  },
  {
   "cell_type": "code",
   "execution_count": 168,
   "id": "cd7e46b1",
   "metadata": {},
   "outputs": [],
   "source": [
    "# Question no. 1\n",
    "\n",
    "a = 0\n",
    "def b():\n",
    "    global a\n",
    "    a = c(a)\n",
    "def c(a):\n",
    "    return a + 2"
   ]
  },
  {
   "cell_type": "code",
   "execution_count": 169,
   "id": "a56c65d3",
   "metadata": {},
   "outputs": [],
   "source": [
    "b()"
   ]
  },
  {
   "cell_type": "code",
   "execution_count": 170,
   "id": "85d41763",
   "metadata": {},
   "outputs": [],
   "source": [
    "b()"
   ]
  },
  {
   "cell_type": "code",
   "execution_count": 171,
   "id": "f9eb806f",
   "metadata": {},
   "outputs": [],
   "source": [
    "b()"
   ]
  },
  {
   "cell_type": "code",
   "execution_count": 172,
   "id": "fba36277",
   "metadata": {},
   "outputs": [
    {
     "data": {
      "text/plain": [
       "6"
      ]
     },
     "execution_count": 172,
     "metadata": {},
     "output_type": "execute_result"
    }
   ],
   "source": [
    "a"
   ]
  },
  {
   "cell_type": "markdown",
   "id": "177763f5",
   "metadata": {},
   "source": [
    "The value displayed when the last expression a is evaluated will be 6.\n",
    "\n",
    "Here's an explanation of what happens in each executed statement:\n",
    "\n",
    "After importing the module, the variable a is initialized to 0.\n",
    "The function b() is called for the first time. Inside b(), the statement global a is used to indicate that we want to modify the global variable a rather than creating a new local variable. The function c(a) is called, which takes the current value of a (0) and adds 2 to it, resulting in 2. The global variable a is then updated with this new value.\n",
    "The function b() is called for the second time. The current value of a is now 2. The function c(a) is called again, adding 2 to the current value of a (2), resulting in 4. The global variable a is updated with this new value.\n",
    "The function b() is called for the third time. The current value of a is now 4. The function c(a) is called again, adding 2 to the current value of a (4), resulting in 6. The global variable a is updated with this new value.\n",
    "Finally, when the expression a is evaluated, it returns the current value of the global variable a, which is 6.\n",
    "Therefore, the value displayed when the last expression a is evaluated is 6."
   ]
  },
  {
   "cell_type": "code",
   "execution_count": null,
   "id": "dea47700",
   "metadata": {},
   "outputs": [],
   "source": []
  },
  {
   "cell_type": "code",
   "execution_count": 173,
   "id": "80eb006e",
   "metadata": {},
   "outputs": [],
   "source": [
    "# Question no. 2\n",
    "\n",
    "def fileLength(filename):\n",
    "    try:\n",
    "        # Attempt to open the file\n",
    "        infile = open(filename)\n",
    "        # Read the contents of the file\n",
    "        contents = infile.read()\n",
    "        # Close the file\n",
    "        infile.close()\n",
    "        # Return the length of the contents\n",
    "        return len(contents)\n",
    "    except FileNotFoundError:\n",
    "        # Handle the case when the file is not found\n",
    "        print(f\"File {filename} not found.\")\n"
   ]
  },
  {
   "cell_type": "code",
   "execution_count": 174,
   "id": "defcbf2c",
   "metadata": {},
   "outputs": [
    {
     "data": {
      "text/plain": [
       "284"
      ]
     },
     "execution_count": 174,
     "metadata": {},
     "output_type": "execute_result"
    }
   ],
   "source": [
    "fileLength('midterm.py')\n"
   ]
  },
  {
   "cell_type": "code",
   "execution_count": 175,
   "id": "80b064e0",
   "metadata": {},
   "outputs": [
    {
     "name": "stdout",
     "output_type": "stream",
     "text": [
      "File idterm.py not found.\n"
     ]
    }
   ],
   "source": [
    "fileLength('idterm.py')"
   ]
  },
  {
   "cell_type": "code",
   "execution_count": null,
   "id": "e2a3ffaf",
   "metadata": {},
   "outputs": [],
   "source": []
  },
  {
   "cell_type": "code",
   "execution_count": 176,
   "id": "c29d8fd6",
   "metadata": {},
   "outputs": [],
   "source": [
    "# Question no. 3\n",
    "\n",
    "class Marsupial:\n",
    "    def __init__(self):\n",
    "        self.pouch = []  # Initialize an empty list to store pouch contents\n",
    "    \n",
    "    def put_in_pouch(self, item):\n",
    "        self.pouch.append(item)  # Add the item to the pouch list\n",
    "    \n",
    "    def pouch_contents(self):\n",
    "        return self.pouch  # Return the contents of the pouch as a list"
   ]
  },
  {
   "cell_type": "code",
   "execution_count": 177,
   "id": "4a762a4a",
   "metadata": {},
   "outputs": [],
   "source": [
    "m = Marsupial()"
   ]
  },
  {
   "cell_type": "code",
   "execution_count": 178,
   "id": "9d3d67de",
   "metadata": {},
   "outputs": [],
   "source": [
    "m.put_in_pouch('doll')"
   ]
  },
  {
   "cell_type": "code",
   "execution_count": 179,
   "id": "9610271d",
   "metadata": {},
   "outputs": [],
   "source": [
    "m.put_in_pouch('firetruck')"
   ]
  },
  {
   "cell_type": "code",
   "execution_count": 180,
   "id": "f6c1188b",
   "metadata": {},
   "outputs": [],
   "source": [
    "m.put_in_pouch('kitten')"
   ]
  },
  {
   "cell_type": "code",
   "execution_count": 181,
   "id": "7a4c87fb",
   "metadata": {},
   "outputs": [
    {
     "name": "stdout",
     "output_type": "stream",
     "text": [
      "['doll', 'firetruck', 'kitten']\n"
     ]
    }
   ],
   "source": [
    "print(m.pouch_contents()) "
   ]
  },
  {
   "cell_type": "code",
   "execution_count": 182,
   "id": "6011734b",
   "metadata": {},
   "outputs": [],
   "source": [
    "class Kangaroo(Marsupial):\n",
    "    def __init__(self, x, y):\n",
    "        super().__init__()  # Call the parent class constructor\n",
    "        self.x = x  # Initialize x-coordinate\n",
    "        self.y = y  # Initialize y-coordinate\n",
    "        \n",
    "    def jump(self, dx, dy):\n",
    "        self.x += dx  # Update x-coordinate by dx units\n",
    "        self.y += dy  # Update y-coordinate by dy units\n",
    "        \n",
    "    def __str__(self):\n",
    "        return f\"I am a Kangaroo located at coordinates ({self.x},{self.y})\"\n"
   ]
  },
  {
   "cell_type": "code",
   "execution_count": 183,
   "id": "6fc9151f",
   "metadata": {},
   "outputs": [],
   "source": [
    "k = Kangaroo(0,0)"
   ]
  },
  {
   "cell_type": "code",
   "execution_count": 184,
   "id": "51536b85",
   "metadata": {},
   "outputs": [
    {
     "name": "stdout",
     "output_type": "stream",
     "text": [
      "I am a Kangaroo located at coordinates (0,0)\n"
     ]
    }
   ],
   "source": [
    "print(k)"
   ]
  },
  {
   "cell_type": "code",
   "execution_count": 185,
   "id": "fbc94d98",
   "metadata": {},
   "outputs": [],
   "source": [
    "k.put_in_pouch('doll')"
   ]
  },
  {
   "cell_type": "code",
   "execution_count": 186,
   "id": "3ede2194",
   "metadata": {},
   "outputs": [],
   "source": [
    "k.put_in_pouch('firetruck')"
   ]
  },
  {
   "cell_type": "code",
   "execution_count": 187,
   "id": "afc61a8c",
   "metadata": {},
   "outputs": [],
   "source": [
    "k.put_in_pouch('kitten')"
   ]
  },
  {
   "cell_type": "code",
   "execution_count": 188,
   "id": "a85da613",
   "metadata": {},
   "outputs": [
    {
     "data": {
      "text/plain": [
       "['doll', 'firetruck', 'kitten']"
      ]
     },
     "execution_count": 188,
     "metadata": {},
     "output_type": "execute_result"
    }
   ],
   "source": [
    "k.pouch_contents()"
   ]
  },
  {
   "cell_type": "code",
   "execution_count": 189,
   "id": "db9f6ae6",
   "metadata": {},
   "outputs": [],
   "source": [
    "k.jump(1,0)"
   ]
  },
  {
   "cell_type": "code",
   "execution_count": 190,
   "id": "ac89f5cb",
   "metadata": {},
   "outputs": [],
   "source": [
    "k.jump(1,0)"
   ]
  },
  {
   "cell_type": "code",
   "execution_count": 191,
   "id": "30ba676a",
   "metadata": {},
   "outputs": [],
   "source": [
    "k.jump(1,0)"
   ]
  },
  {
   "cell_type": "code",
   "execution_count": 192,
   "id": "f4df826c",
   "metadata": {},
   "outputs": [
    {
     "name": "stdout",
     "output_type": "stream",
     "text": [
      "I am a Kangaroo located at coordinates (3,0)\n"
     ]
    }
   ],
   "source": [
    "print(k)"
   ]
  },
  {
   "cell_type": "code",
   "execution_count": null,
   "id": "721352a8",
   "metadata": {},
   "outputs": [],
   "source": []
  },
  {
   "cell_type": "code",
   "execution_count": 193,
   "id": "f12f62fd",
   "metadata": {},
   "outputs": [],
   "source": [
    "# Question no. 4\n",
    "\n",
    "def collatz(x):\n",
    "    print(x)  # Print the current number in the Collatz sequence\n",
    "    \n",
    "    if x == 1:\n",
    "        return  # Base case: Stop the recursion when x reaches 1\n",
    "    \n",
    "    if x % 2 == 0:\n",
    "        collatz(x // 2)  # Recursive call with x divided by 2 if x is even\n",
    "    else:\n",
    "        collatz(3 * x + 1)  # Recursive call with 3x + 1 if x is odd"
   ]
  },
  {
   "cell_type": "code",
   "execution_count": 194,
   "id": "1c88cab6",
   "metadata": {},
   "outputs": [
    {
     "name": "stdout",
     "output_type": "stream",
     "text": [
      "1\n"
     ]
    }
   ],
   "source": [
    "collatz(1)"
   ]
  },
  {
   "cell_type": "code",
   "execution_count": 195,
   "id": "ced323b8",
   "metadata": {},
   "outputs": [
    {
     "name": "stdout",
     "output_type": "stream",
     "text": [
      "10\n",
      "5\n",
      "16\n",
      "8\n",
      "4\n",
      "2\n",
      "1\n"
     ]
    }
   ],
   "source": [
    "collatz(10)"
   ]
  },
  {
   "cell_type": "code",
   "execution_count": null,
   "id": "4f0ba28e",
   "metadata": {},
   "outputs": [],
   "source": []
  },
  {
   "cell_type": "code",
   "execution_count": 196,
   "id": "217f49bd",
   "metadata": {},
   "outputs": [],
   "source": [
    "# Question no. 5\n",
    "\n",
    "def binary(n):\n",
    "    if n > 1:\n",
    "        binary(n // 2)  # Recursively call binary() with the quotient of n divided by 2\n",
    "    print(n % 2, end='')  # Print the remainder of n divided by 2"
   ]
  },
  {
   "cell_type": "code",
   "execution_count": 197,
   "id": "2db6b850",
   "metadata": {},
   "outputs": [
    {
     "name": "stdout",
     "output_type": "stream",
     "text": [
      "0"
     ]
    }
   ],
   "source": [
    "binary(0)"
   ]
  },
  {
   "cell_type": "code",
   "execution_count": 198,
   "id": "d5775174",
   "metadata": {},
   "outputs": [
    {
     "name": "stdout",
     "output_type": "stream",
     "text": [
      "1"
     ]
    }
   ],
   "source": [
    "binary(1) "
   ]
  },
  {
   "cell_type": "code",
   "execution_count": 199,
   "id": "c44c898a",
   "metadata": {},
   "outputs": [
    {
     "name": "stdout",
     "output_type": "stream",
     "text": [
      "11"
     ]
    }
   ],
   "source": [
    "binary(3)"
   ]
  },
  {
   "cell_type": "code",
   "execution_count": 200,
   "id": "8d3d8a8d",
   "metadata": {},
   "outputs": [
    {
     "name": "stdout",
     "output_type": "stream",
     "text": [
      "1001"
     ]
    }
   ],
   "source": [
    "binary(9)"
   ]
  },
  {
   "cell_type": "code",
   "execution_count": null,
   "id": "b7a9490e",
   "metadata": {},
   "outputs": [],
   "source": []
  },
  {
   "cell_type": "code",
   "execution_count": 201,
   "id": "58435257",
   "metadata": {},
   "outputs": [],
   "source": [
    "# Question no. 6\n",
    "\n",
    "from html.parser import HTMLParser\n",
    "\n",
    "class HeadingParser(HTMLParser):\n",
    "    def __init__(self):\n",
    "        super().__init__()\n",
    "        self.indentation = 0  # Current indentation level\n",
    "        self.headings = []  # List to store the extracted headings\n",
    "        self.exclude_title = False  # Flag to exclude data within <title> tag\n",
    "\n",
    "    def handle_starttag(self, tag, attrs):\n",
    "        if tag == 'title':\n",
    "            self.exclude_title = True  # Set flag to exclude data within <title> tag\n",
    "        elif tag.startswith('h') and len(tag) > 1 and tag[1].isdigit():\n",
    "            self.indentation = int(tag[1]) - 1  # Set indentation based on tag level\n",
    "\n",
    "    def handle_endtag(self, tag):\n",
    "        if tag == 'title':\n",
    "            self.exclude_title = False  # Reset flag after encountering </title> tag\n",
    "\n",
    "    def handle_data(self, data):\n",
    "        if self.indentation >= 0 and not self.exclude_title and data.strip():\n",
    "            # Exclude title and empty data, add heading to list with appropriate indentation\n",
    "            heading = ' ' * (self.indentation * 4) + data.strip()\n",
    "            self.headings.append(heading)\n",
    "\n",
    "    def print_headings(self):\n",
    "        for heading in self.headings:\n",
    "            print(heading)"
   ]
  },
  {
   "cell_type": "code",
   "execution_count": 202,
   "id": "752af139",
   "metadata": {},
   "outputs": [],
   "source": [
    "infile = open('w3c.html')"
   ]
  },
  {
   "cell_type": "code",
   "execution_count": 203,
   "id": "36cab986",
   "metadata": {},
   "outputs": [],
   "source": [
    "content = infile.read()"
   ]
  },
  {
   "cell_type": "code",
   "execution_count": 204,
   "id": "56f3dae1",
   "metadata": {},
   "outputs": [],
   "source": [
    "infile.close()"
   ]
  },
  {
   "cell_type": "code",
   "execution_count": 205,
   "id": "6cd41493",
   "metadata": {},
   "outputs": [],
   "source": [
    "hp = HeadingParser()"
   ]
  },
  {
   "cell_type": "code",
   "execution_count": 206,
   "id": "fe79bb7d",
   "metadata": {},
   "outputs": [],
   "source": [
    "hp.feed(content)"
   ]
  },
  {
   "cell_type": "code",
   "execution_count": 207,
   "id": "f69add78",
   "metadata": {},
   "outputs": [
    {
     "name": "stdout",
     "output_type": "stream",
     "text": [
      "W3C Mission\n",
      "    Principles\n"
     ]
    }
   ],
   "source": [
    "hp.print_headings()"
   ]
  },
  {
   "cell_type": "code",
   "execution_count": null,
   "id": "cdb10b93",
   "metadata": {},
   "outputs": [],
   "source": []
  },
  {
   "cell_type": "code",
   "execution_count": 208,
   "id": "d3c0d11e",
   "metadata": {},
   "outputs": [],
   "source": [
    "# Question no. 7\n",
    "\n",
    "import requests\n",
    "\n",
    "def webdir(url, depth, indent):\n",
    "    if depth < 0:\n",
    "        return\n",
    "\n",
    "    # Create indentation string based on the specified indent level\n",
    "    indentation = ' ' * indent\n",
    "\n",
    "    # Print the URL with the appropriate indentation\n",
    "    print(indentation + url)\n",
    "\n",
    "    # Retrieve the web page content\n",
    "    response = requests.get(url)\n",
    "    if response.status_code == 200:\n",
    "        # Parse the HTML content and find all anchor tags\n",
    "        anchors = response.html.find('a')\n",
    "\n",
    "        # Visit each linked web page recursively\n",
    "        for anchor in anchors:\n",
    "            linked_url = anchor.attrs.get('href', '')\n",
    "            if linked_url.startswith('http'):\n",
    "                # Check if the linked URL matches the desired pattern\n",
    "                if 'test' in linked_url:\n",
    "                    webdir(linked_url, depth - 1, indent + 4)\n"
   ]
  },
  {
   "cell_type": "code",
   "execution_count": 209,
   "id": "11678aa5",
   "metadata": {},
   "outputs": [
    {
     "name": "stdout",
     "output_type": "stream",
     "text": [
      "http://reed.cs.depaul.edu/lperkovic/csc242/test1.html\n"
     ]
    }
   ],
   "source": [
    "webdir('http://reed.cs.depaul.edu/lperkovic/csc242/test1.html', 2, 0)\n"
   ]
  },
  {
   "cell_type": "code",
   "execution_count": null,
   "id": "abd2ba97",
   "metadata": {},
   "outputs": [],
   "source": []
  },
  {
   "cell_type": "code",
   "execution_count": 210,
   "id": "bd2cc0b3",
   "metadata": {},
   "outputs": [],
   "source": [
    "# Question no. 8\n",
    "\n",
    "import sqlite3\n",
    "\n",
    "# Connect to the database (creates a new file if it doesn't exist)\n",
    "conn = sqlite3.connect('your_database.db')\n",
    "\n",
    "# Create a cursor object to execute SQL commands\n",
    "cursor = conn.cursor()\n",
    "\n",
    "# Create a table to store the climate data\n",
    "cursor.execute('''CREATE TABLE IF NOT EXISTS climate_data (\n",
    "    City TEXT,\n",
    "    Country TEXT,\n",
    "    Season TEXT,\n",
    "    Temperature REAL,\n",
    "    Rainfall REAL\n",
    ");''')\n",
    "\n",
    "# Insert the data into the table\n",
    "data = [\n",
    "    ('Mumbai', 'India', 'Winter', 24.8, 5.9),\n",
    "    ('Mumbai', 'India', 'Spring', 28.4, 16.2),\n",
    "    ('Mumbai', 'India', 'Summer', 27.9, 1549.4),\n",
    "    ('Mumbai', 'India', 'Fall', 27.6, 346.0),\n",
    "    ('London', 'United Kingdom', 'Winter', 4.2, 207.7),\n",
    "    ('London', 'United Kingdom', 'Spring', 8.3, 169.6),\n",
    "    ('London', 'United Kingdom', 'Summer', 15.7, 157.0),\n",
    "    ('London', 'United Kingdom', 'Fall', 10.4, 218.5),\n",
    "    ('Cairo', 'Egypt', 'Winter', 13.6, 16.5),\n",
    "    ('Cairo', 'Egypt', 'Spring', 20.7, 6.5),\n",
    "    ('Cairo', 'Egypt', 'Summer', 27.7, 0.1),\n",
    "    ('Cairo', 'Egypt', 'Fall', 22.2, 4.5)\n",
    "]\n",
    "\n",
    "cursor.executemany('INSERT INTO climate_data VALUES (?, ?, ?, ?, ?);', data)\n",
    "\n",
    "# Commit the changes and close the cursor and connection\n",
    "conn.commit()\n"
   ]
  },
  {
   "cell_type": "code",
   "execution_count": 211,
   "id": "5e87911c",
   "metadata": {},
   "outputs": [
    {
     "name": "stdout",
     "output_type": "stream",
     "text": [
      "Temperature data: [(24.8,), (28.4,), (27.9,), (27.6,), (4.2,), (8.3,), (15.7,), (10.4,), (13.6,), (20.7,), (27.7,), (22.2,), (24.8,), (28.4,), (27.9,), (27.6,), (4.2,), (8.3,), (15.7,), (10.4,), (13.6,), (20.7,), (27.7,), (22.2,), (24.8,), (28.4,), (27.9,), (27.6,), (4.2,), (8.3,), (15.7,), (10.4,), (13.6,), (20.7,), (27.7,), (22.2,), (24.8,), (28.4,), (27.9,), (27.6,), (4.2,), (8.3,), (15.7,), (10.4,), (13.6,), (20.7,), (27.7,), (22.2,), (24.8,), (28.4,), (27.9,), (27.6,), (4.2,), (8.3,), (15.7,), (10.4,), (13.6,), (20.7,), (27.7,), (22.2,), (24.8,), (28.4,), (27.9,), (27.6,), (4.2,), (8.3,), (15.7,), (10.4,), (13.6,), (20.7,), (27.7,), (22.2,), (24.8,), (28.4,), (27.9,), (27.6,), (4.2,), (8.3,), (15.7,), (10.4,), (13.6,), (20.7,), (27.7,), (22.2,)]\n"
     ]
    }
   ],
   "source": [
    "# a)\n",
    "\n",
    "# The below command selects the 'Temperature' column from the 'climate_data' table.\n",
    "# The fetchall() method retrieves all the rows returned by the query and stores them in the 'temperature_data' variable.\n",
    "\n",
    "cursor.execute(\"SELECT Temperature FROM climate_data;\")\n",
    "temperature_data = cursor.fetchall()\n",
    "\n",
    "# Print the results\n",
    "print(\"Temperature data:\", temperature_data)\n"
   ]
  },
  {
   "cell_type": "code",
   "execution_count": 212,
   "id": "b44ae4c2",
   "metadata": {},
   "outputs": [
    {
     "name": "stdout",
     "output_type": "stream",
     "text": [
      "Unique cities: [('Mumbai',), ('London',), ('Cairo',)]\n"
     ]
    }
   ],
   "source": [
    "# b)\n",
    "\n",
    "# The below command selects the distinct 'City' values from the 'climate_data' table.\n",
    "# The fetchall() method retrieves all the unique cities and stores them in the 'unique_cities' variable.\n",
    "\n",
    "cursor.execute(\"SELECT DISTINCT City FROM climate_data;\")\n",
    "unique_cities = cursor.fetchall()\n",
    "\n",
    "# Print the results\n",
    "print(\"Unique cities:\", unique_cities)"
   ]
  },
  {
   "cell_type": "code",
   "execution_count": 213,
   "id": "3e358147",
   "metadata": {},
   "outputs": [
    {
     "name": "stdout",
     "output_type": "stream",
     "text": [
      "India records: [('Mumbai', 'India', 'Winter', 24.8, 5.9), ('Mumbai', 'India', 'Spring', 28.4, 16.2), ('Mumbai', 'India', 'Summer', 27.9, 1549.4), ('Mumbai', 'India', 'Fall', 27.6, 346.0), ('Mumbai', 'India', 'Winter', 24.8, 5.9), ('Mumbai', 'India', 'Spring', 28.4, 16.2), ('Mumbai', 'India', 'Summer', 27.9, 1549.4), ('Mumbai', 'India', 'Fall', 27.6, 346.0), ('Mumbai', 'India', 'Winter', 24.8, 5.9), ('Mumbai', 'India', 'Spring', 28.4, 16.2), ('Mumbai', 'India', 'Summer', 27.9, 1549.4), ('Mumbai', 'India', 'Fall', 27.6, 346.0), ('Mumbai', 'India', 'Winter', 24.8, 5.9), ('Mumbai', 'India', 'Spring', 28.4, 16.2), ('Mumbai', 'India', 'Summer', 27.9, 1549.4), ('Mumbai', 'India', 'Fall', 27.6, 346.0), ('Mumbai', 'India', 'Winter', 24.8, 5.9), ('Mumbai', 'India', 'Spring', 28.4, 16.2), ('Mumbai', 'India', 'Summer', 27.9, 1549.4), ('Mumbai', 'India', 'Fall', 27.6, 346.0), ('Mumbai', 'India', 'Winter', 24.8, 5.9), ('Mumbai', 'India', 'Spring', 28.4, 16.2), ('Mumbai', 'India', 'Summer', 27.9, 1549.4), ('Mumbai', 'India', 'Fall', 27.6, 346.0), ('Mumbai', 'India', 'Winter', 24.8, 5.9), ('Mumbai', 'India', 'Spring', 28.4, 16.2), ('Mumbai', 'India', 'Summer', 27.9, 1549.4), ('Mumbai', 'India', 'Fall', 27.6, 346.0)]\n"
     ]
    }
   ],
   "source": [
    "# c)\n",
    "\n",
    "# The below command selects all columns from the 'climate_data' table where the 'Country' is 'India'.\n",
    "# The fetchall() method retrieves all the records that match the condition and stores them in the 'india_records' variable.\n",
    "\n",
    "cursor.execute(\"SELECT * FROM climate_data WHERE Country = 'India';\")\n",
    "india_records = cursor.fetchall()\n",
    "\n",
    "# Print the results\n",
    "print(\"India records:\", india_records)"
   ]
  },
  {
   "cell_type": "code",
   "execution_count": 214,
   "id": "1a6bd7dc",
   "metadata": {},
   "outputs": [
    {
     "name": "stdout",
     "output_type": "stream",
     "text": [
      "Fall records: [('Mumbai', 'India', 'Fall', 27.6, 346.0), ('London', 'United Kingdom', 'Fall', 10.4, 218.5), ('Cairo', 'Egypt', 'Fall', 22.2, 4.5), ('Mumbai', 'India', 'Fall', 27.6, 346.0), ('London', 'United Kingdom', 'Fall', 10.4, 218.5), ('Cairo', 'Egypt', 'Fall', 22.2, 4.5), ('Mumbai', 'India', 'Fall', 27.6, 346.0), ('London', 'United Kingdom', 'Fall', 10.4, 218.5), ('Cairo', 'Egypt', 'Fall', 22.2, 4.5), ('Mumbai', 'India', 'Fall', 27.6, 346.0), ('London', 'United Kingdom', 'Fall', 10.4, 218.5), ('Cairo', 'Egypt', 'Fall', 22.2, 4.5), ('Mumbai', 'India', 'Fall', 27.6, 346.0), ('London', 'United Kingdom', 'Fall', 10.4, 218.5), ('Cairo', 'Egypt', 'Fall', 22.2, 4.5), ('Mumbai', 'India', 'Fall', 27.6, 346.0), ('London', 'United Kingdom', 'Fall', 10.4, 218.5), ('Cairo', 'Egypt', 'Fall', 22.2, 4.5), ('Mumbai', 'India', 'Fall', 27.6, 346.0), ('London', 'United Kingdom', 'Fall', 10.4, 218.5), ('Cairo', 'Egypt', 'Fall', 22.2, 4.5)]\n"
     ]
    }
   ],
   "source": [
    "# d)\n",
    "\n",
    "# The below command selects all columns from the 'climate_data' table where the 'Season' is 'Fall'.\n",
    "# The fetchall() method retrieves all the records that match the condition and stores them in the 'fall_records' variable.\n",
    "\n",
    "cursor.execute(\"SELECT * FROM climate_data WHERE Season = 'Fall';\")\n",
    "fall_records = cursor.fetchall()\n",
    "\n",
    "# Print the results\n",
    "print(\"Fall records:\", fall_records)"
   ]
  },
  {
   "cell_type": "code",
   "execution_count": 215,
   "id": "c03ba607",
   "metadata": {},
   "outputs": [
    {
     "name": "stdout",
     "output_type": "stream",
     "text": [
      "Average rainfall): [('Mumbai', 'India', 'Fall'), ('London', 'United Kingdom', 'Winter'), ('London', 'United Kingdom', 'Fall'), ('Mumbai', 'India', 'Fall'), ('London', 'United Kingdom', 'Winter'), ('London', 'United Kingdom', 'Fall'), ('Mumbai', 'India', 'Fall'), ('London', 'United Kingdom', 'Winter'), ('London', 'United Kingdom', 'Fall'), ('Mumbai', 'India', 'Fall'), ('London', 'United Kingdom', 'Winter'), ('London', 'United Kingdom', 'Fall'), ('Mumbai', 'India', 'Fall'), ('London', 'United Kingdom', 'Winter'), ('London', 'United Kingdom', 'Fall'), ('Mumbai', 'India', 'Fall'), ('London', 'United Kingdom', 'Winter'), ('London', 'United Kingdom', 'Fall'), ('Mumbai', 'India', 'Fall'), ('London', 'United Kingdom', 'Winter'), ('London', 'United Kingdom', 'Fall')]\n"
     ]
    }
   ],
   "source": [
    "# e) \n",
    "\n",
    "#The city, country, and season for which the average rainfall is between 200 and 400 millimeters\n",
    "cursor.execute(\"SELECT City, Country, Season FROM climate_data WHERE Rainfall BETWEEN 200 AND 400;\")\n",
    "average_rainfall = cursor.fetchall()\n",
    "\n",
    "# Print the results\n",
    "print(\"Average rainfall):\", average_rainfall)"
   ]
  },
  {
   "cell_type": "code",
   "execution_count": 216,
   "id": "170db51f",
   "metadata": {},
   "outputs": [
    {
     "name": "stdout",
     "output_type": "stream",
     "text": [
      "Average Fall temperature: [('Cairo', 'Egypt'), ('Cairo', 'Egypt'), ('Cairo', 'Egypt'), ('Cairo', 'Egypt'), ('Cairo', 'Egypt'), ('Cairo', 'Egypt'), ('Cairo', 'Egypt'), ('Mumbai', 'India'), ('Mumbai', 'India'), ('Mumbai', 'India'), ('Mumbai', 'India'), ('Mumbai', 'India'), ('Mumbai', 'India'), ('Mumbai', 'India')]\n"
     ]
    }
   ],
   "source": [
    "# f) \n",
    "\n",
    "# The city and country for which the average Fall temperature is above 20 degrees, in increasing temperature order\n",
    "cursor.execute(\"SELECT City, Country FROM climate_data WHERE Season = 'Fall' AND Temperature > 20 ORDER BY Temperature ASC;\")\n",
    "average_Fall_temperature = cursor.fetchall()\n",
    "\n",
    "# Print the results\n",
    "print(\"Average Fall temperature:\", average_Fall_temperature)\n"
   ]
  },
  {
   "cell_type": "code",
   "execution_count": 217,
   "id": "d1c3a84d",
   "metadata": {},
   "outputs": [
    {
     "name": "stdout",
     "output_type": "stream",
     "text": [
      "Annual rainfall for Cairo: 193.19999999999996\n"
     ]
    }
   ],
   "source": [
    "# g)\n",
    "\n",
    "# The total annual rainfall for Cairo\n",
    "cursor.execute(\"SELECT SUM(Rainfall) FROM climate_data WHERE City = 'Cairo';\")\n",
    "Cairo = cursor.fetchone()[0]\n",
    "\n",
    "# Print the results\n",
    "print(\"Annual rainfall for Cairo:\",Cairo )\n"
   ]
  },
  {
   "cell_type": "code",
   "execution_count": 218,
   "id": "58792458",
   "metadata": {},
   "outputs": [
    {
     "name": "stdout",
     "output_type": "stream",
     "text": [
      "Total rainfall for each season: [('Fall', 3983.0), ('Spring', 1346.1000000000001), ('Summer', 11945.5), ('Winter', 1610.7)]\n"
     ]
    }
   ],
   "source": [
    "# h)\n",
    "\n",
    "# The total rainfall for each season\n",
    "cursor.execute(\"SELECT Season, SUM(Rainfall) FROM climate_data GROUP BY Season;\")\n",
    "total_rain = cursor.fetchall()\n",
    "\n",
    "# Print the results\n",
    "print(\"Total rainfall for each season:\", total_rain)"
   ]
  },
  {
   "cell_type": "code",
   "execution_count": null,
   "id": "d6b1f3cc",
   "metadata": {},
   "outputs": [],
   "source": []
  },
  {
   "cell_type": "code",
   "execution_count": 219,
   "id": "66bd9d9a",
   "metadata": {},
   "outputs": [],
   "source": [
    "# Question no. 9\n",
    "\n",
    "words = ['The', 'quick', 'brown', 'fox', 'jumps', 'over',\n",
    "'the', 'lazy', 'dog']"
   ]
  },
  {
   "cell_type": "code",
   "execution_count": 220,
   "id": "24ff452e",
   "metadata": {},
   "outputs": [
    {
     "name": "stdout",
     "output_type": "stream",
     "text": [
      "['THE', 'QUICK', 'BROWN', 'FOX', 'JUMPS', 'OVER', 'THE', 'LAZY', 'DOG']\n"
     ]
    }
   ],
   "source": [
    "# a)\n",
    "\n",
    "# List comprehension to generate a list of uppercase words\n",
    "uppercase_list = [word.upper() for word in words]\n",
    "print(uppercase_list)"
   ]
  },
  {
   "cell_type": "code",
   "execution_count": 221,
   "id": "a8dc054b",
   "metadata": {},
   "outputs": [
    {
     "name": "stdout",
     "output_type": "stream",
     "text": [
      "['the', 'quick', 'brown', 'fox', 'jumps', 'over', 'the', 'lazy', 'dog']\n"
     ]
    }
   ],
   "source": [
    "# b)\n",
    "\n",
    "# List comprehension to generate a list of lowercase words\n",
    "lowercase_list = [word.lower() for word in words]\n",
    "print(lowercase_list)"
   ]
  },
  {
   "cell_type": "code",
   "execution_count": 222,
   "id": "d1437999",
   "metadata": {},
   "outputs": [
    {
     "name": "stdout",
     "output_type": "stream",
     "text": [
      "[3, 5, 5, 3, 5, 4, 3, 4, 3]\n"
     ]
    }
   ],
   "source": [
    "# c)\n",
    "\n",
    "# List comprehension to generate a list of lengths of words\n",
    "length_list = [len(word) for word in words]\n",
    "print(length_list)"
   ]
  },
  {
   "cell_type": "code",
   "execution_count": 223,
   "id": "889b6b29",
   "metadata": {},
   "outputs": [
    {
     "name": "stdout",
     "output_type": "stream",
     "text": [
      "[['THE', 'the', 3], ['QUICK', 'quick', 5], ['BROWN', 'brown', 5], ['FOX', 'fox', 3], ['JUMPS', 'jumps', 5], ['OVER', 'over', 4], ['THE', 'the', 3], ['LAZY', 'lazy', 4], ['DOG', 'dog', 3]]\n"
     ]
    }
   ],
   "source": [
    "# d)\n",
    "\n",
    "# List comprehension to generate a list of lists containing uppercase, lowercase, and length of each word\n",
    "combined_list = [[word.upper(), word.lower(), len(word)] for word in words]\n",
    "print(combined_list)"
   ]
  },
  {
   "cell_type": "code",
   "execution_count": 224,
   "id": "216f54f1",
   "metadata": {},
   "outputs": [
    {
     "name": "stdout",
     "output_type": "stream",
     "text": [
      "['quick', 'brown', 'jumps', 'over', 'lazy']\n"
     ]
    }
   ],
   "source": [
    "# e)\n",
    "\n",
    "# List comprehension to generate a list of words with 4 or more characters\n",
    "filtered_list = [word for word in words if len(word) >= 4]\n",
    "print(filtered_list)"
   ]
  },
  {
   "cell_type": "code",
   "execution_count": null,
   "id": "2a1dfd9f",
   "metadata": {},
   "outputs": [],
   "source": []
  }
 ],
 "metadata": {
  "kernelspec": {
   "display_name": "Python 3 (ipykernel)",
   "language": "python",
   "name": "python3"
  },
  "language_info": {
   "codemirror_mode": {
    "name": "ipython",
    "version": 3
   },
   "file_extension": ".py",
   "mimetype": "text/x-python",
   "name": "python",
   "nbconvert_exporter": "python",
   "pygments_lexer": "ipython3",
   "version": "3.8.3"
  }
 },
 "nbformat": 4,
 "nbformat_minor": 5
}
